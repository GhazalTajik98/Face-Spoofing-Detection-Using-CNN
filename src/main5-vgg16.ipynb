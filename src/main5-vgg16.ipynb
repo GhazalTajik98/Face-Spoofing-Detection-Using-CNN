{
 "cells": [
  {
   "cell_type": "markdown",
   "id": "0068a8f3",
   "metadata": {},
   "source": [
    "## Model Architecture\n",
    "### 10 epochs"
   ]
  },
  {
   "cell_type": "code",
   "execution_count": 1,
   "id": "7bf9eff1",
   "metadata": {},
   "outputs": [
    {
     "name": "stdout",
     "output_type": "stream",
     "text": [
      "INFO:tensorflow:Mixed precision compatibility check (mixed_float16): OK\n",
      "Your GPU will likely run quickly with dtype policy mixed_float16 as it has compute capability of at least 7.0. Your GPU: NVIDIA GeForce GTX 1660 Ti, compute capability 7.5\n"
     ]
    }
   ],
   "source": [
    "import os\n",
    "import pathlib\n",
    "import random\n",
    "\n",
    "import numpy as np\n",
    "from tqdm import tqdm\n",
    "import matplotlib.pyplot as plt\n",
    "from sklearn.model_selection import train_test_split \n",
    "from sklearn.metrics import f1_score, precision_score, recall_score\n",
    "import matplotlib.pyplot as plt\n",
    "from sklearn.model_selection import KFold\n",
    "\n",
    "\n",
    "import tensorflow as tf\n",
    "from tensorflow.keras.callbacks import Callback\n",
    "\n",
    "from tensorflow.keras.utils import Sequence\n",
    "from keras.callbacks import EarlyStopping\n",
    "from tensorflow.keras import mixed_precision\n",
    "from tensorflow.keras.models import Sequential\n",
    "from tensorflow.keras.preprocessing.image import ImageDataGenerator\n",
    "from tensorflow.keras.optimizers import RMSprop\n",
    "from tensorflow.keras.layers import (Conv2D,\n",
    "                                     Flatten,\n",
    "                                     Activation,\n",
    "                                     Dense, \n",
    "                                     BatchNormalization, \n",
    "                                     Dropout,\n",
    "                                    LeakyReLU)\n",
    "\n",
    "from keras_vggface.vggface import VGGFace\n",
    "\n",
    "mixed_precision.set_global_policy('mixed_float16')\n"
   ]
  },
  {
   "cell_type": "code",
   "execution_count": null,
   "id": "16d018c3",
   "metadata": {},
   "outputs": [],
   "source": []
  },
  {
   "cell_type": "markdown",
   "id": "27e392b3",
   "metadata": {},
   "source": [
    "## Read Data "
   ]
  },
  {
   "cell_type": "markdown",
   "id": "500a9351",
   "metadata": {},
   "source": [
    "## Reading Data"
   ]
  },
  {
   "cell_type": "code",
   "execution_count": 2,
   "id": "3c2f2198",
   "metadata": {},
   "outputs": [],
   "source": [
    "BASE_PATH = r'D:\\Project\\Dataset'\n",
    "DATA_PATH = os.path.join(BASE_PATH, 'CASIA-SURF-Challenge')\n",
    "\n",
    "TRAIN_FILE_PATH = \"train_list.txt\"\n",
    "TEST_FILE_PATH = \"test_private_list.txt\"\n",
    "VAL_FILE_PATH = \"val_private_list.txt\"\n",
    "REAL_FILE_PATH = \"real_data.txt\"\n",
    "MODEL_PATH = \"models\"\n",
    "\n",
    "RESIZE_CROP = (256, 256)\n",
    "\n",
    "BATCH_SIZE = 32\n",
    "\n",
    "TRAIN, VAL, TEST = 0.8, 0.1, 0.2\n"
   ]
  },
  {
   "cell_type": "code",
   "execution_count": 3,
   "id": "9255f3a9",
   "metadata": {},
   "outputs": [],
   "source": [
    "# path = r\"C:\\Users\\hp\\Desktop\\Project\\Dataset\\CASIA-SURF-Challenge\\Testing\"\n",
    "# test_files = []\n",
    "# for root, dirs, files in os.walk(path):\n",
    "#     if files:\n",
    "#         for file in files:\n",
    "#             if file.endswith(\"color.jpg\"):\n",
    "#                 test_files.append(os.path.join(root, file))\n",
    "\n",
    "                "
   ]
  },
  {
   "cell_type": "code",
   "execution_count": 4,
   "id": "1af23342",
   "metadata": {},
   "outputs": [],
   "source": [
    "# path = r\"C:\\Users\\hp\\Desktop\\Project\\Dataset\\CASIA-SURF-Challenge\\Val\"\n",
    "# for root, dirs, files in os.walk(path):\n",
    "#     if files:\n",
    "#         for file in files:\n",
    "#             if file.endswith(\"color.jpg\"):\n",
    "#                 test_files.append(os.path.join(root, file))\n"
   ]
  },
  {
   "cell_type": "code",
   "execution_count": null,
   "id": "218818ca",
   "metadata": {},
   "outputs": [],
   "source": []
  },
  {
   "cell_type": "code",
   "execution_count": 5,
   "id": "b4515d11",
   "metadata": {
    "scrolled": true
   },
   "outputs": [
    {
     "name": "stdout",
     "output_type": "stream",
     "text": [
      "Number of train samples : 40680\n"
     ]
    }
   ],
   "source": [
    "\n",
    "TRAIN_FILES = os.path.join(DATA_PATH, TRAIN_FILE_PATH)\n",
    "TEST_FILES = os.path.join(DATA_PATH, TEST_FILE_PATH)\n",
    "VAL_FILES = os.path.join(DATA_PATH, VAL_FILE_PATH)\n",
    "REAL_FILES = os.path.join(DATA_PATH, REAL_FILE_PATH)\n",
    "\n",
    "def read_file(file):\n",
    "    data_paths = []\n",
    "    with open(file, 'r') as f:\n",
    "        while True:\n",
    "            \n",
    "            line = f.readline()\n",
    "            if len(line) == 0:\n",
    "                break\n",
    "            line = line.split(\" \")[0]\n",
    "            data_paths.append(line)\n",
    "            \n",
    "    return data_paths\n",
    "\n",
    "\n",
    "\n",
    "train_abs_paths = read_file(TRAIN_FILES)\n",
    "# real_abs_paths  = read_file(REAL_FILES)\n",
    "with open(REAL_FILES, \"r\") as f:\n",
    "    lines = f.readlines()\n",
    "    lines = [line[:-1] for line in lines]\n",
    "# Read Augmented\n",
    "with open(\"augmented_image_paths.txt\", \"r\") as f:\n",
    "    augmented_data_path = f.readlines()\n",
    "    augmented_data_path = [path[:-1] for path in augmented_data_path]\n",
    "\n",
    "# Data with not Label\n",
    "# test_abs_paths = read_file(TEST_FILES)\n",
    "# val_abs_paths = read_file(VAL_FILES)\n",
    "# train_abs_paths  = train_abs_paths + augmented_data_path\n",
    "train_abs_paths = train_abs_paths + lines\n",
    "train_abs_paths = train_abs_paths + augmented_data_path\n",
    "print(f\"Number of train samples : {len(train_abs_paths)}\")\n"
   ]
  },
  {
   "cell_type": "code",
   "execution_count": null,
   "id": "8410267f",
   "metadata": {},
   "outputs": [],
   "source": []
  },
  {
   "cell_type": "code",
   "execution_count": 6,
   "id": "b5f2c893",
   "metadata": {},
   "outputs": [],
   "source": [
    "def split_fake_real(data):\n",
    "    data_splited = [path.split('/') for path in data]\n",
    "    data_splited = ['real_part' in _ for _ in data_splited]\n",
    "    real_index = data_splited.index(True)\n",
    "    labels = [0] * real_index + [1] * (len(data) - real_index)\n",
    "    return labels"
   ]
  },
  {
   "cell_type": "code",
   "execution_count": 7,
   "id": "1c26b4d6",
   "metadata": {},
   "outputs": [],
   "source": [
    "def read_image(path):\n",
    "    image = tf.io.read_file(path)\n",
    "    image = tf.image.decode_jpeg(image, channels=3)\n",
    "    image = tf.image.convert_image_dtype(image, dtype='float32')\n",
    "    image = tf.image.resize(image, size=RESIZE_CROP)\n",
    "    return image"
   ]
  },
  {
   "cell_type": "code",
   "execution_count": 8,
   "id": "533e8b7c",
   "metadata": {},
   "outputs": [
    {
     "name": "stdout",
     "output_type": "stream",
     "text": [
      "Number of Real images : 20356\n",
      "Percentage of Real images : %50.04\n",
      "-----------------------------------\n",
      "Number of Fake images : 20324\n",
      "Percentage of Fake images : %49.96\n"
     ]
    }
   ],
   "source": [
    "train_Y = split_fake_real(train_abs_paths)\n",
    "train_X = [os.path.join(DATA_PATH, image_path) for image_path in train_abs_paths]\n",
    "real_number = sum(train_Y)\n",
    "real_percentage = sum(train_Y)*100 / len(train_Y)\n",
    "\n",
    "fake_number = len(train_Y) - real_number\n",
    "fake_percentage = 100 - real_percentage\n",
    "print(f\"Number of Real images : {real_number}\")\n",
    "print(f\"Percentage of Real images : %{real_percentage:.2f}\")\n",
    "print(\"-----------------------------------\")\n",
    "print(f\"Number of Fake images : {fake_number}\")\n",
    "print(f\"Percentage of Fake images : %{fake_percentage:.2f}\")"
   ]
  },
  {
   "cell_type": "code",
   "execution_count": 9,
   "id": "7353bae7",
   "metadata": {},
   "outputs": [],
   "source": [
    "# Define augmentation functions\n",
    "def random_flip(image, label):\n",
    "    image = tf.image.random_flip_left_right(image)\n",
    "    return image, label\n",
    "\n",
    "def random_brightness(image, label):\n",
    "    image = tf.image.random_brightness(image, max_delta=0.1)\n",
    "    return image, label\n",
    "\n",
    "def random_contrast(image, label):\n",
    "    image = tf.image.random_contrast(image, lower=0.8, upper=1.2)\n",
    "    return image, label\n",
    "\n",
    "def random_rotate_small(image, label, max_angle=15):\n",
    "    angle = tf.random.uniform(shape=[], minval=-max_angle, maxval=max_angle, dtype=tf.float32)\n",
    "    image = tf.image.rot90(image, tf.cast(angle / 90, tf.int32))\n",
    "    return image, label\n",
    "\n",
    "# Define augmentation pipeline for label 1 (fake images)\n",
    "def apply_augmentation(image, label):\n",
    "    if label == 1:\n",
    "        image, label = random_flip(image, label)\n",
    "        image, label = random_brightness(image, label)\n",
    "        image, label = random_contrast(image, label)\n",
    "        image, label = random_rotate_small(image, label)\n",
    "    return image, label"
   ]
  },
  {
   "cell_type": "markdown",
   "id": "7212f821",
   "metadata": {},
   "source": [
    "### Apply augmentation on Real Data\n"
   ]
  },
  {
   "cell_type": "code",
   "execution_count": 10,
   "id": "47a8f2b6",
   "metadata": {},
   "outputs": [],
   "source": [
    "# with open(\"augmented_image_paths.txt\", 'r') as f:\n",
    "#     data = f.readlines()\n",
    "\n",
    "# with open(\"augmented_image_paths.txt\", 'w') as f:\n",
    "#     for path in data:\n",
    "#         f.write(path.replace(\"C:\\\\Users\\\\hp\\\\Desktop\\\\Project\\\\Dataset\\\\CASIA-SURF-Challenge\\\\\", \"\"))"
   ]
  },
  {
   "cell_type": "code",
   "execution_count": 11,
   "id": "38baffd2",
   "metadata": {},
   "outputs": [],
   "source": [
    "\n",
    "# # Assuming you have already defined the augmentation functions as before...\n",
    "\n",
    "# # List of file paths to your train images (without the common prefix)\n",
    "# real_image_paths = train_X[20324:]\n",
    "\n",
    "# # Function to read and augment an image from the file path\n",
    "# def read_and_augment_image(image_path):\n",
    "#     image = tf.io.read_file(image_path)\n",
    "#     image = tf.image.decode_jpeg(image, channels=3)  # You can also use decode_png() if images are in PNG format\n",
    "#     image, _ = apply_augmentation(image, label=1)  # Assuming label=1 for real images\n",
    "#     return image\n",
    "\n",
    "# # Function to save the augmented image back to the same file path with \"augmented\" in the name\n",
    "# def save_augmented_image(image, image_path):\n",
    "#     base_dir = os.path.dirname(image_path)\n",
    "#     base_name = os.path.basename(image_path)\n",
    "#     augmented_base_name = \"augmented_\" + base_name\n",
    "#     augmented_image_path = os.path.join(base_dir, augmented_base_name)\n",
    "    \n",
    "#     if os.path.exists(augmented_image_path):\n",
    "#         print(f\"Augmented version of {image_path} already exists. Skipping...\")\n",
    "#         return augmented_image_path\n",
    "    \n",
    "#     encoded_image = tf.image.encode_jpeg(tf.cast(image, tf.uint8))  # You can use encode_png() for PNG format\n",
    "#     tf.io.write_file(augmented_image_path, encoded_image)\n",
    "\n",
    "#     return augmented_image_path\n",
    "\n",
    "# # Create a list to store the paths of all augmented images\n",
    "# augmented_image_paths = []\n",
    "\n",
    "# # Loop over each real image path, read, augment, and save back with \"augmented\" in the name\n",
    "# for real_image_path in real_image_paths:\n",
    "#     augmented_image = read_and_augment_image(real_image_path)\n",
    "#     augmented_image_path = save_augmented_image(augmented_image, real_image_path)\n",
    "#     augmented_image_paths.append(augmented_image_path)\n",
    "\n",
    "# # Remove the common prefix from each path\n",
    "# common_prefix = \"C:Users/hp/Desktop/Project/Dataset/CASIA-SURF-Challenge/\"\n",
    "# augmented_image_paths_relative = [path.replace(common_prefix, \"\") for path in augmented_image_paths]\n",
    "\n",
    "# # Save the paths of augmented images to the txt file without the common prefix\n",
    "# txt_file_path = \"augmented_image_paths.txt\"\n",
    "# with open(txt_file_path, 'w') as file:\n",
    "#     for path in augmented_image_paths_relative:\n",
    "#         file.write(path + '\\n')\n",
    "\n",
    "# print(\"Augmentation and save completed.\")\n"
   ]
  },
  {
   "cell_type": "code",
   "execution_count": null,
   "id": "da556017",
   "metadata": {},
   "outputs": [],
   "source": []
  },
  {
   "cell_type": "code",
   "execution_count": 12,
   "id": "f729b861",
   "metadata": {},
   "outputs": [
    {
     "name": "stdout",
     "output_type": "stream",
     "text": [
      "Number train data : 32544\n",
      "Number test data : 8136\n"
     ]
    }
   ],
   "source": [
    "train_x, test_x, train_y, test_y = train_test_split(train_X, train_Y, test_size=TEST, shuffle=True)\n",
    "# # The validation and test data is not labeled so we use train part\n",
    "# test_x_path = [os.path.join(DATA_PATH, image_path) for image_path in test_abs_paths]\n",
    "# val_x_path = [os.path.join(DATA_PATH, image_path) for image_path in val_abs_paths]\n",
    "print(f\"Number train data : {len(train_x)}\")\n",
    "print(f\"Number test data : {len(test_x)}\")"
   ]
  },
  {
   "cell_type": "code",
   "execution_count": 13,
   "id": "2125f890",
   "metadata": {},
   "outputs": [],
   "source": [
    "with open(\"testx_5.txt\", \"w\") as f:\n",
    "    for path in test_x:\n",
    "        f.write(path + \"\\n\")\n",
    "        \n",
    "with open(\"testy_5.txt\", \"w\") as f:\n",
    "    for path in test_y:\n",
    "        f.write(str(path) + \"\\n\")"
   ]
  },
  {
   "cell_type": "code",
   "execution_count": 14,
   "id": "b4d0a658",
   "metadata": {},
   "outputs": [
    {
     "name": "stdout",
     "output_type": "stream",
     "text": [
      "Real data in train : 16305\n",
      "Fake data in train : 16239\n"
     ]
    }
   ],
   "source": [
    "print(f\"Real data in train : {sum(train_y)}\")\n",
    "print(f\"Fake data in train : {len(train_y) - sum(train_y)}\")"
   ]
  },
  {
   "cell_type": "markdown",
   "id": "cb5cbb18",
   "metadata": {},
   "source": [
    "#### Ploting some of train images\n"
   ]
  },
  {
   "cell_type": "code",
   "execution_count": 15,
   "id": "0bb52b12",
   "metadata": {},
   "outputs": [
    {
     "name": "stdout",
     "output_type": "stream",
     "text": [
      "Images size : (256, 256, 3)\n"
     ]
    },
    {
     "data": {
      "image/png": "[encoded data removed]",
      "text/plain": [
       "<Figure size 1440x720 with 12 Axes>"
      ]
     },
     "metadata": {
      "needs_background": "light"
     },
     "output_type": "display_data"
    }
   ],
   "source": [
    "num_image = 12\n",
    "rows = 4\n",
    "column = 3\n",
    "\n",
    "figs, axes = plt.subplots(rows, column, figsize=(20, 10))\n",
    "\n",
    "axes = axes.ravel()\n",
    "\n",
    "for i in range(num_image):\n",
    "    img = random.choice(train_x)\n",
    "    label = train_y[train_x.index(img)]\n",
    "    img = read_image(img)\n",
    "    label = \"Real\" if label else \"Fake\"\n",
    "    axes[i].imshow(img)\n",
    "    axes[i].set_title(label, fontsize=12)\n",
    "    axes[i].axis(\"off\")\n",
    "print(f\"Images size : {img.shape}\")\n",
    "\n",
    "plt.show()"
   ]
  },
  {
   "cell_type": "markdown",
   "id": "55a074d8",
   "metadata": {},
   "source": [
    "## "
   ]
  },
  {
   "cell_type": "code",
   "execution_count": 16,
   "id": "c655cd2d",
   "metadata": {},
   "outputs": [],
   "source": [
    "# Used this\n",
    "def generator(images, labels):\n",
    "    idx = np.arange(len(images))\n",
    "    for i in idx:\n",
    "        yield (read_image(images[i]), labels[i])"
   ]
  },
  {
   "cell_type": "code",
   "execution_count": null,
   "id": "dcd1922d",
   "metadata": {},
   "outputs": [],
   "source": []
  },
  {
   "cell_type": "code",
   "execution_count": 17,
   "id": "217ced30",
   "metadata": {},
   "outputs": [],
   "source": [
    "\n",
    "\n",
    "test_dataset = tf.data.Dataset.from_generator(\n",
    "            lambda : generator(test_x, test_y),\n",
    "            output_signature=(\n",
    "                tf.TensorSpec(shape=(256, 256, 3), dtype=tf.float32),\n",
    "                tf.TensorSpec(shape=(), dtype=tf.int32)\n",
    "            )\n",
    ")"
   ]
  },
  {
   "cell_type": "markdown",
   "id": "0371bbbf",
   "metadata": {},
   "source": [
    "## Model Architecture"
   ]
  },
  {
   "cell_type": "code",
   "execution_count": 18,
   "id": "dacff8b5",
   "metadata": {},
   "outputs": [],
   "source": [
    "performance_scores = []\n",
    "\n",
    "# Define the number of folds (k)\n",
    "K = 5\n",
    "\n",
    "# Initialize the k-fold cross-validator\n",
    "kf = KFold(n_splits=K, shuffle=True, random_state=42)\n",
    "folds = kf.split(train_x, train_y)\n",
    "\n",
    "# Model Architecture\n",
    "IMG_SIZE = (256, 256)\n",
    "\n",
    "IMG_SHAPE = IMG_SIZE + (3,)\n"
   ]
  },
  {
   "cell_type": "code",
   "execution_count": 19,
   "id": "15b971e0",
   "metadata": {},
   "outputs": [],
   "source": [
    "performance_scores = []"
   ]
  },
  {
   "cell_type": "markdown",
   "id": "fe79bb9b",
   "metadata": {},
   "source": [
    "### Model 1\n"
   ]
  },
  {
   "cell_type": "code",
   "execution_count": 20,
   "id": "bcdbc99e",
   "metadata": {},
   "outputs": [
    {
     "name": "stdout",
     "output_type": "stream",
     "text": [
      "[ 0  1  2  3  4  5  7  9 10 11]\n",
      "[ 6  8 30 33 34 35 43 46 52 70]\n"
     ]
    }
   ],
   "source": [
    "# FOLD 1\n",
    "train_index, val_index = next(folds)\n",
    "print(train_index[:10])\n",
    "print(val_index[:10])"
   ]
  },
  {
   "cell_type": "code",
   "execution_count": 21,
   "id": "a583c922",
   "metadata": {},
   "outputs": [],
   "source": [
    "X_train, X_val = [train_x[i] for i in train_index], [train_x[i] for i in val_index]\n",
    "y_train, y_val = [train_y[i] for i in train_index], [train_y[i] for i in val_index]\n",
    "train_dataset_1 = tf.data.Dataset.from_generator(\n",
    "            lambda : generator(X_train, y_train),\n",
    "            output_signature=(\n",
    "                tf.TensorSpec(shape=(256, 256, 3), dtype=tf.float32),\n",
    "                tf.TensorSpec(shape=(), dtype=tf.int32)\n",
    "            )\n",
    ")\n",
    "\n",
    "val_dataset_1 =  tf.data.Dataset.from_generator(\n",
    "            lambda : generator(X_val, y_val),\n",
    "            output_signature=(\n",
    "                tf.TensorSpec(shape=(256, 256, 3), dtype=tf.float32),\n",
    "                tf.TensorSpec(shape=(), dtype=tf.int32)\n",
    "            )\n",
    ")"
   ]
  },
  {
   "cell_type": "code",
   "execution_count": 22,
   "id": "be1efae4",
   "metadata": {
    "scrolled": true
   },
   "outputs": [
    {
     "name": "stdout",
     "output_type": "stream",
     "text": [
      "Number of layers in VGGFACE : 19\n",
      "Model: \"vggface_vgg16\"\n",
      "_________________________________________________________________\n",
      "Layer (type)                 Output Shape              Param #   \n",
      "=================================================================\n",
      "input_1 (InputLayer)         [(None, 256, 256, 3)]     0         \n",
      "_________________________________________________________________\n",
      "conv1_1 (Conv2D)             (None, 256, 256, 64)      1792      \n",
      "_________________________________________________________________\n",
      "conv1_2 (Conv2D)             (None, 256, 256, 64)      36928     \n",
      "_________________________________________________________________\n",
      "pool1 (MaxPooling2D)         (None, 128, 128, 64)      0         \n",
      "_________________________________________________________________\n",
      "conv2_1 (Conv2D)             (None, 128, 128, 128)     73856     \n",
      "_________________________________________________________________\n",
      "conv2_2 (Conv2D)             (None, 128, 128, 128)     147584    \n",
      "_________________________________________________________________\n",
      "pool2 (MaxPooling2D)         (None, 64, 64, 128)       0         \n",
      "_________________________________________________________________\n",
      "conv3_1 (Conv2D)             (None, 64, 64, 256)       295168    \n",
      "_________________________________________________________________\n",
      "conv3_2 (Conv2D)             (None, 64, 64, 256)       590080    \n",
      "_________________________________________________________________\n",
      "conv3_3 (Conv2D)             (None, 64, 64, 256)       590080    \n",
      "_________________________________________________________________\n",
      "pool3 (MaxPooling2D)         (None, 32, 32, 256)       0         \n",
      "_________________________________________________________________\n",
      "conv4_1 (Conv2D)             (None, 32, 32, 512)       1180160   \n",
      "_________________________________________________________________\n",
      "conv4_2 (Conv2D)             (None, 32, 32, 512)       2359808   \n",
      "_________________________________________________________________\n",
      "conv4_3 (Conv2D)             (None, 32, 32, 512)       2359808   \n",
      "_________________________________________________________________\n",
      "pool4 (MaxPooling2D)         (None, 16, 16, 512)       0         \n",
      "_________________________________________________________________\n",
      "conv5_1 (Conv2D)             (None, 16, 16, 512)       2359808   \n",
      "_________________________________________________________________\n",
      "conv5_2 (Conv2D)             (None, 16, 16, 512)       2359808   \n",
      "_________________________________________________________________\n",
      "conv5_3 (Conv2D)             (None, 16, 16, 512)       2359808   \n",
      "_________________________________________________________________\n",
      "pool5 (MaxPooling2D)         (None, 8, 8, 512)         0         \n",
      "=================================================================\n",
      "Total params: 14,714,688\n",
      "Trainable params: 0\n",
      "Non-trainable params: 14,714,688\n",
      "_________________________________________________________________\n"
     ]
    }
   ],
   "source": [
    "\n",
    "base_model_1 = VGGFace(input_shape=IMG_SHAPE, include_top=False, model='vgg16')\n",
    "print(f\"Number of layers in VGGFACE : {len(base_model_1.layers)}\")\n",
    "\n",
    "len(base_model_1.layers)\n",
    "base_model_1.trainable = False\n",
    "\n",
    "fine_tune_from_layer = 16\n",
    "for layer in base_model_1.layers[-3:]:\n",
    "    layer.trainable = True\n",
    "\n",
    "\n",
    "model_1 = Sequential()\n",
    "model_1.add(base_model_1)\n",
    "model_1.add(Flatten())\n",
    "\n",
    "model_1.add(Dense(1024, activation='relu'))  # Fully connected layer\n",
    "model_1.add(BatchNormalization())\n",
    "model_1.add(Dropout(0.3))\n",
    "\n",
    "model_1.add(Dense(512, activation=LeakyReLU(alpha=0.01)))  # Fully connected layer\n",
    "model_1.add(BatchNormalization())\n",
    "model_1.add(Dropout(0.5))\n",
    "\n",
    "model_1.add(Dense(256, activation='relu'))  # Fully connected layer\n",
    "model_1.add(BatchNormalization())\n",
    "model_1.add(Dropout(0.2))\n",
    "\n",
    "model_1.add(Dense(128, activation=LeakyReLU(alpha=0.01)))  # Fully connected layer\n",
    "model_1.add(BatchNormalization())\n",
    "\n",
    "\n",
    "model_1.add(Dense(1, activation='sigmoid'))\n",
    "model_1.compile(loss='binary_crossentropy',optimizer=RMSprop(learning_rate=0.0001), metrics=['accuracy'])\n",
    "\n",
    "base_model_1.summary()"
   ]
  },
  {
   "cell_type": "code",
   "execution_count": null,
   "id": "c6c56906",
   "metadata": {},
   "outputs": [],
   "source": []
  },
  {
   "cell_type": "code",
   "execution_count": 24,
   "id": "34924d99",
   "metadata": {
    "scrolled": true
   },
   "outputs": [
    {
     "name": "stdout",
     "output_type": "stream",
     "text": [
      "Epoch 1/10\n",
      "813/813 [==============================] - 291s 344ms/step - loss: 0.0370 - accuracy: 0.9875 - val_loss: 0.0019 - val_accuracy: 0.9998\n",
      "Epoch 2/10\n",
      "813/813 [==============================] - 285s 345ms/step - loss: 0.0100 - accuracy: 0.9971 - val_loss: 0.0011 - val_accuracy: 0.9998\n",
      "Epoch 3/10\n",
      "813/813 [==============================] - 288s 354ms/step - loss: 0.0069 - accuracy: 0.9978 - val_loss: 0.0012 - val_accuracy: 0.9995\n",
      "Epoch 4/10\n",
      "813/813 [==============================] - 295s 363ms/step - loss: 0.0054 - accuracy: 0.9986 - val_loss: 5.4707e-04 - val_accuracy: 0.9998\n",
      "Epoch 5/10\n",
      "813/813 [==============================] - 291s 359ms/step - loss: 0.0044 - accuracy: 0.9987 - val_loss: 0.0014 - val_accuracy: 0.9995\n",
      "Epoch 6/10\n",
      "813/813 [==============================] - 290s 357ms/step - loss: 0.0042 - accuracy: 0.9988 - val_loss: 6.7962e-04 - val_accuracy: 0.9997\n",
      "Epoch 7/10\n",
      "813/813 [==============================] - 296s 364ms/step - loss: 0.0032 - accuracy: 0.9988 - val_loss: 6.0476e-04 - val_accuracy: 0.9998\n",
      "Epoch 8/10\n",
      "813/813 [==============================] - 297s 365ms/step - loss: 0.0030 - accuracy: 0.9990 - val_loss: 7.2007e-04 - val_accuracy: 0.9997\n",
      "Epoch 9/10\n",
      "813/813 [==============================] - 292s 359ms/step - loss: 0.0030 - accuracy: 0.9993 - val_loss: 6.7634e-04 - val_accuracy: 0.9997\n"
     ]
    }
   ],
   "source": [
    "# metrics_callback_1 = MetricsCallback(val_dataset_1.batch(BATCH_SIZE).prefetch(3))\n",
    "early_stopping_1 = EarlyStopping(patience=5, restore_best_weights=True)\n",
    "\n",
    "history_1 = model_1.fit(train_dataset_1.batch(BATCH_SIZE).prefetch(3).repeat(),\n",
    "                    steps_per_epoch=int(len(X_train) // BATCH_SIZE),\n",
    "                    epochs=10,\n",
    "                    verbose=1,\n",
    "                    validation_data=val_dataset_1.batch(BATCH_SIZE).prefetch(3).repeat(),\n",
    "                    validation_steps=int(len(X_val) // BATCH_SIZE),\n",
    "                    use_multiprocessing=True,\n",
    "                    callbacks=[early_stopping_1]\n",
    "                    )"
   ]
  },
  {
   "cell_type": "code",
   "execution_count": 25,
   "id": "3603ab5e",
   "metadata": {},
   "outputs": [
    {
     "name": "stdout",
     "output_type": "stream",
     "text": [
      "255/255 [==============================] - 66s 260ms/step - loss: 0.0010 - accuracy: 0.9996\n"
     ]
    }
   ],
   "source": [
    "loss_1, accuracy_1 = model_1.evaluate(test_dataset.batch(BATCH_SIZE).prefetch(3))\n",
    "performance_scores.append(accuracy_1)"
   ]
  },
  {
   "cell_type": "code",
   "execution_count": 26,
   "id": "4996bc16",
   "metadata": {},
   "outputs": [
    {
     "name": "stderr",
     "output_type": "stream",
     "text": [
      "WARNING:absl:Found untraced functions such as leaky_re_lu_layer_call_fn, leaky_re_lu_layer_call_and_return_conditional_losses, leaky_re_lu_1_layer_call_fn, leaky_re_lu_1_layer_call_and_return_conditional_losses, leaky_re_lu_layer_call_fn while saving (showing 5 of 10). These functions will not be directly callable after loading.\n"
     ]
    },
    {
     "name": "stdout",
     "output_type": "stream",
     "text": [
      "INFO:tensorflow:Assets written to: models/model_1_casia_vgg_train\\assets\n"
     ]
    },
    {
     "name": "stderr",
     "output_type": "stream",
     "text": [
      "INFO:tensorflow:Assets written to: models/model_1_casia_vgg_train\\assets\n"
     ]
    }
   ],
   "source": [
    "model_1.save(\"models/model_1_casia_vgg_train\")\n",
    "model_1.save_weights(\"models/model_1_casia_vgg_train\")"
   ]
  },
  {
   "cell_type": "markdown",
   "id": "5307f72d",
   "metadata": {},
   "source": [
    "### Model 2\n"
   ]
  },
  {
   "cell_type": "code",
   "execution_count": 27,
   "id": "136738b8",
   "metadata": {
    "scrolled": true
   },
   "outputs": [
    {
     "name": "stdout",
     "output_type": "stream",
     "text": [
      "[ 0  1  2  5  6  8  9 10 11 12]\n",
      "[ 3  4  7 17 23 29 31 41 42 44]\n"
     ]
    }
   ],
   "source": [
    "# FOLD 2\n",
    "train_index, val_index = next(folds)\n",
    "print(train_index[:10])\n",
    "print(val_index[:10])"
   ]
  },
  {
   "cell_type": "code",
   "execution_count": 28,
   "id": "b9f6e090",
   "metadata": {},
   "outputs": [],
   "source": [
    "X_train, X_val = [train_x[i] for i in train_index], [train_x[i] for i in val_index]\n",
    "y_train, y_val = [train_y[i] for i in train_index], [train_y[i] for i in val_index]\n",
    "train_dataset_2 = tf.data.Dataset.from_generator(\n",
    "            lambda : generator(X_train, y_train),\n",
    "            output_signature=(\n",
    "                tf.TensorSpec(shape=(256, 256, 3), dtype=tf.float32),\n",
    "                tf.TensorSpec(shape=(), dtype=tf.int32)\n",
    "            )\n",
    ")\n",
    "\n",
    "val_dataset_2 =  tf.data.Dataset.from_generator(\n",
    "            lambda : generator(X_val, y_val),\n",
    "            output_signature=(\n",
    "                tf.TensorSpec(shape=(256, 256, 3), dtype=tf.float32),\n",
    "                tf.TensorSpec(shape=(), dtype=tf.int32)\n",
    "            )\n",
    ")"
   ]
  },
  {
   "cell_type": "code",
   "execution_count": 31,
   "id": "7aab1c59",
   "metadata": {},
   "outputs": [
    {
     "name": "stdout",
     "output_type": "stream",
     "text": [
      "Number of layers in VGGFACE : 19\n"
     ]
    }
   ],
   "source": [
    "\n",
    "base_model_2 = VGGFace(input_shape=IMG_SHAPE, include_top=False, model='vgg16')\n",
    "print(f\"Number of layers in VGGFACE : {len(base_model_2.layers)}\")\n",
    "\n",
    "len(base_model_2.layers)\n",
    "base_model_2.trainable = False\n",
    "\n",
    "fine_tune_from_layer = 16\n",
    "for layer in base_model_2.layers[-3:]:\n",
    "    layer.trainable = True\n",
    "\n",
    "\n",
    "model_2 = Sequential()\n",
    "model_2.add(base_model_2)\n",
    "model_2.add(Flatten())\n",
    "model_2.add(Dense(1024, activation=LeakyReLU(alpha=0.01)))  # Fully connected layer\n",
    "model_2.add(BatchNormalization())\n",
    "model_2.add(Dropout(0.2))\n",
    "\n",
    "model_2.add(Dense(512, activation=LeakyReLU(alpha=0.01)))  # Fully connected layer\n",
    "model_2.add(BatchNormalization())\n",
    "model_2.add(Dropout(0.2))\n",
    "\n",
    "model_2.add(Dense(256, activation=LeakyReLU(alpha=0.01)))  # Fully connected layer\n",
    "model_2.add(BatchNormalization())\n",
    "model_2.add(Dropout(0.2))\n",
    "\n",
    "model_2.add(Dense(128, activation=LeakyReLU(alpha=0.01)))  # Fully connected layer\n",
    "model_2.add(BatchNormalization())\n",
    "\n",
    "\n",
    "model_2.add(Dense(1, activation='sigmoid'))\n",
    "model_2.compile(loss='binary_crossentropy',optimizer=RMSprop(learning_rate=0.0001), metrics=['accuracy'])\n",
    "\n"
   ]
  },
  {
   "cell_type": "code",
   "execution_count": 32,
   "id": "3691a515",
   "metadata": {},
   "outputs": [
    {
     "name": "stdout",
     "output_type": "stream",
     "text": [
      "Epoch 1/10\n",
      "813/813 [==============================] - 284s 346ms/step - loss: 0.0276 - accuracy: 0.9905 - val_loss: 0.0093 - val_accuracy: 0.9972\n",
      "Epoch 2/10\n",
      "813/813 [==============================] - 293s 360ms/step - loss: 0.0064 - accuracy: 0.9979 - val_loss: 0.0013 - val_accuracy: 0.9997\n",
      "Epoch 3/10\n",
      "813/813 [==============================] - 291s 358ms/step - loss: 0.0033 - accuracy: 0.9991 - val_loss: 4.1583e-04 - val_accuracy: 0.9998\n",
      "Epoch 4/10\n",
      "813/813 [==============================] - 291s 358ms/step - loss: 0.0020 - accuracy: 0.9994 - val_loss: 0.0012 - val_accuracy: 0.9998\n",
      "Epoch 5/10\n",
      "813/813 [==============================] - 286s 352ms/step - loss: 0.0019 - accuracy: 0.9995 - val_loss: 7.4830e-04 - val_accuracy: 0.9998\n",
      "Epoch 6/10\n",
      "813/813 [==============================] - 286s 352ms/step - loss: 0.0018 - accuracy: 0.9995 - val_loss: 4.7726e-04 - val_accuracy: 0.9998\n",
      "Epoch 7/10\n",
      "813/813 [==============================] - 286s 351ms/step - loss: 0.0018 - accuracy: 0.9993 - val_loss: 9.0908e-04 - val_accuracy: 0.9997\n",
      "Epoch 8/10\n",
      "813/813 [==============================] - 286s 352ms/step - loss: 0.0016 - accuracy: 0.9995 - val_loss: 0.0011 - val_accuracy: 0.9998\n"
     ]
    }
   ],
   "source": [
    "# metrics_callback_1 = MetricsCallback(val_dataset_1.batch(BATCH_SIZE).prefetch(3))\n",
    "early_stopping_2 = EarlyStopping(patience=5, restore_best_weights=True)\n",
    "\n",
    "history_2 = model_2.fit(train_dataset_2.batch(BATCH_SIZE).prefetch(3).repeat(),\n",
    "                    steps_per_epoch=int(len(X_train) // BATCH_SIZE),\n",
    "                    epochs=10,\n",
    "                    verbose=1,\n",
    "                    validation_data=val_dataset_2.batch(BATCH_SIZE).prefetch(3).repeat(),\n",
    "                    validation_steps=int(len(X_val) // BATCH_SIZE),\n",
    "                    use_multiprocessing=True,\n",
    "                    callbacks=[early_stopping_2]\n",
    "                    )"
   ]
  },
  {
   "cell_type": "code",
   "execution_count": null,
   "id": "f33773b6",
   "metadata": {},
   "outputs": [],
   "source": [
    "loss_2, accuracy_2 = model_2.evaluate(test_dataset.batch(BATCH_SIZE).prefetch(3))\n",
    "performance_scores.append(accuracy_2)"
   ]
  },
  {
   "cell_type": "code",
   "execution_count": null,
   "id": "130ab055",
   "metadata": {},
   "outputs": [],
   "source": [
    "model_2.save(\"models/model_2_casia_vgg_train\")\n",
    "model_2.save_weights(\"models/model_2_casia_vgg_train\")"
   ]
  },
  {
   "cell_type": "markdown",
   "id": "ea5de299",
   "metadata": {},
   "source": [
    "### Model 3\n"
   ]
  },
  {
   "cell_type": "code",
   "execution_count": 37,
   "id": "469ed18f",
   "metadata": {},
   "outputs": [
    {
     "name": "stdout",
     "output_type": "stream",
     "text": [
      "[ 1  2  3  4  6  7  8  9 10 11]\n",
      "[ 0  5 14 15 19 20 22 26 27 38]\n"
     ]
    }
   ],
   "source": [
    "train_index, val_index = next(folds)\n",
    "print(train_index[:10])\n",
    "print(val_index[:10])"
   ]
  },
  {
   "cell_type": "code",
   "execution_count": 38,
   "id": "d623f832",
   "metadata": {},
   "outputs": [],
   "source": [
    "# FOLD 2\n",
    "\n",
    "X_train, X_val = [train_x[i] for i in train_index], [train_x[i] for i in val_index]\n",
    "y_train, y_val = [train_y[i] for i in train_index], [train_y[i] for i in val_index]\n",
    "train_dataset_3 = tf.data.Dataset.from_generator(\n",
    "            lambda : generator(X_train, y_train),\n",
    "            output_signature=(\n",
    "                tf.TensorSpec(shape=(256, 256, 3), dtype=tf.float32),\n",
    "                tf.TensorSpec(shape=(), dtype=tf.int32)\n",
    "            )\n",
    ")\n",
    "\n",
    "val_dataset_3 =  tf.data.Dataset.from_generator(\n",
    "            lambda : generator(X_val, y_val),\n",
    "            output_signature=(\n",
    "                tf.TensorSpec(shape=(256, 256, 3), dtype=tf.float32),\n",
    "                tf.TensorSpec(shape=(), dtype=tf.int32)\n",
    "            )\n",
    ")\n",
    "\n"
   ]
  },
  {
   "cell_type": "code",
   "execution_count": 39,
   "id": "49181cfc",
   "metadata": {},
   "outputs": [
    {
     "name": "stdout",
     "output_type": "stream",
     "text": [
      "Number of layers in VGGFACE : 19\n"
     ]
    }
   ],
   "source": [
    "base_model_3 = VGGFace(input_shape=IMG_SHAPE, include_top=False, model='vgg16')\n",
    "print(f\"Number of layers in VGGFACE : {len(base_model_3.layers)}\")\n",
    "\n",
    "base_model_3.trainable = False\n",
    "\n",
    "# fine_tune_from_layer = 16\n",
    "# for layer in base_model_3.layers[-40:]:\n",
    "#     layer.trainable = True\n",
    "\n",
    "\n",
    "model_3 = Sequential()\n",
    "model_3.add(base_model_3)\n",
    "model_3.add(Flatten())\n",
    "model_3.add(Dense(1024, activation=LeakyReLU(alpha=0.01)))  # Fully connected layer\n",
    "model_3.add(BatchNormalization())\n",
    "model_3.add(Dropout(0.2))\n",
    "\n",
    "model_3.add(Dense(512, activation=LeakyReLU(alpha=0.01)))  # Fully connected layer\n",
    "model_3.add(BatchNormalization())\n",
    "model_3.add(Dropout(0.2))\n",
    "\n",
    "model_3.add(Dense(256, activation=LeakyReLU(alpha=0.01)))  # Fully connected layer\n",
    "model_3.add(BatchNormalization())\n",
    "model_3.add(Dropout(0.2))\n",
    "\n",
    "model_3.add(Dense(128, activation=LeakyReLU(alpha=0.01)))  # Fully connected layer\n",
    "model_3.add(BatchNormalization())\n",
    "\n",
    "\n",
    "model_3.add(Dense(1, activation='sigmoid'))\n",
    "model_3.compile(loss='binary_crossentropy',optimizer=RMSprop(learning_rate=0.0001), metrics=['accuracy'])\n",
    "\n"
   ]
  },
  {
   "cell_type": "code",
   "execution_count": 40,
   "id": "9c44bb7f",
   "metadata": {},
   "outputs": [
    {
     "name": "stdout",
     "output_type": "stream",
     "text": [
      "Epoch 1/10\n",
      "813/813 [==============================] - 323s 394ms/step - loss: 0.0273 - accuracy: 0.9912 - val_loss: 0.0048 - val_accuracy: 0.9988\n",
      "Epoch 2/10\n",
      "813/813 [==============================] - 325s 401ms/step - loss: 0.0065 - accuracy: 0.9980 - val_loss: 0.0016 - val_accuracy: 0.9992\n",
      "Epoch 3/10\n",
      "813/813 [==============================] - 319s 392ms/step - loss: 0.0030 - accuracy: 0.9990 - val_loss: 0.0013 - val_accuracy: 0.9995\n",
      "Epoch 4/10\n",
      "813/813 [==============================] - 324s 398ms/step - loss: 0.0019 - accuracy: 0.9995 - val_loss: 9.9838e-04 - val_accuracy: 0.9995\n",
      "Epoch 5/10\n",
      "813/813 [==============================] - 324s 399ms/step - loss: 0.0018 - accuracy: 0.9993 - val_loss: 0.0013 - val_accuracy: 0.9995\n",
      "Epoch 6/10\n",
      "813/813 [==============================] - 325s 400ms/step - loss: 0.0017 - accuracy: 0.9995 - val_loss: 5.8323e-04 - val_accuracy: 0.9995\n",
      "Epoch 7/10\n",
      "813/813 [==============================] - 324s 398ms/step - loss: 0.0022 - accuracy: 0.9993 - val_loss: 0.0015 - val_accuracy: 0.9997\n",
      "Epoch 8/10\n",
      "813/813 [==============================] - 320s 394ms/step - loss: 5.7172e-04 - accuracy: 0.9999 - val_loss: 0.0083 - val_accuracy: 0.9978\n",
      "Epoch 9/10\n",
      "813/813 [==============================] - 324s 399ms/step - loss: 6.3332e-04 - accuracy: 0.9998 - val_loss: 0.0032 - val_accuracy: 0.9988\n",
      "Epoch 10/10\n",
      "813/813 [==============================] - 332s 409ms/step - loss: 6.2908e-04 - accuracy: 0.9997 - val_loss: 0.0034 - val_accuracy: 0.9991\n"
     ]
    }
   ],
   "source": [
    "# metrics_callback_1 = MetricsCallback(val_dataset_1.batch(BATCH_SIZE).prefetch(3))\n",
    "early_stopping_3 = EarlyStopping(patience=5, restore_best_weights=True)\n",
    "\n",
    "history_3 = model_3.fit(train_dataset_3.batch(BATCH_SIZE).prefetch(3).repeat(),\n",
    "                    steps_per_epoch=int(len(X_train) // BATCH_SIZE),\n",
    "                    epochs=10,\n",
    "                    verbose=1,\n",
    "                    validation_data=val_dataset_3.batch(BATCH_SIZE).prefetch(3).repeat(),\n",
    "                    validation_steps=int(len(X_val) // BATCH_SIZE),\n",
    "                    use_multiprocessing=True,\n",
    "                    callbacks=[early_stopping_3]\n",
    "                    )"
   ]
  },
  {
   "cell_type": "code",
   "execution_count": 41,
   "id": "0f00ae47",
   "metadata": {},
   "outputs": [
    {
     "name": "stdout",
     "output_type": "stream",
     "text": [
      "255/255 [==============================] - 203s 793ms/step - loss: 0.0045 - accuracy: 0.9988\n"
     ]
    }
   ],
   "source": [
    "loss_3, accuracy_3 = model_3.evaluate(test_dataset.batch(BATCH_SIZE).prefetch(3))\n",
    "performance_scores.append(accuracy_3)"
   ]
  },
  {
   "cell_type": "code",
   "execution_count": 42,
   "id": "774c2b47",
   "metadata": {},
   "outputs": [
    {
     "name": "stderr",
     "output_type": "stream",
     "text": [
      "WARNING:absl:Found untraced functions such as leaky_re_lu_6_layer_call_and_return_conditional_losses, leaky_re_lu_6_layer_call_fn, leaky_re_lu_7_layer_call_and_return_conditional_losses, leaky_re_lu_7_layer_call_fn, leaky_re_lu_8_layer_call_and_return_conditional_losses while saving (showing 5 of 20). These functions will not be directly callable after loading.\n"
     ]
    },
    {
     "name": "stdout",
     "output_type": "stream",
     "text": [
      "INFO:tensorflow:Assets written to: models/model_3_casia_vgg_no_train\\assets\n"
     ]
    },
    {
     "name": "stderr",
     "output_type": "stream",
     "text": [
      "INFO:tensorflow:Assets written to: models/model_3_casia_vgg_no_train\\assets\n"
     ]
    }
   ],
   "source": [
    "model_3.save(\"models/model_3_casia_vgg_no_train\")\n",
    "model_3.save_weights(\"models/model_3_casia_vgg_no_train\")"
   ]
  },
  {
   "cell_type": "markdown",
   "id": "5ad09889",
   "metadata": {},
   "source": [
    "### Model 4"
   ]
  },
  {
   "cell_type": "code",
   "execution_count": 43,
   "id": "a79319a7",
   "metadata": {},
   "outputs": [
    {
     "name": "stdout",
     "output_type": "stream",
     "text": [
      "[ 0  3  4  5  6  7  8  9 11 13]\n",
      "[ 1  2 10 12 18 21 28 32 36 37]\n"
     ]
    }
   ],
   "source": [
    "# FOLD 2\n",
    "train_index, val_index = next(folds)\n",
    "print(train_index[:10])\n",
    "print(val_index[:10])"
   ]
  },
  {
   "cell_type": "code",
   "execution_count": 44,
   "id": "0a60939c",
   "metadata": {},
   "outputs": [
    {
     "name": "stdout",
     "output_type": "stream",
     "text": [
      "Number of layers in VGGFACE : 19\n"
     ]
    }
   ],
   "source": [
    "# FOLD 2\n",
    "\n",
    "X_train, X_val = [train_x[i] for i in train_index], [train_x[i] for i in val_index]\n",
    "y_train, y_val = [train_y[i] for i in train_index], [train_y[i] for i in val_index]\n",
    "train_dataset_4 = tf.data.Dataset.from_generator(\n",
    "            lambda : generator(X_train, y_train),\n",
    "            output_signature=(\n",
    "                tf.TensorSpec(shape=(256, 256, 3), dtype=tf.float32),\n",
    "                tf.TensorSpec(shape=(), dtype=tf.int32)\n",
    "            )\n",
    ")\n",
    "\n",
    "val_dataset_4 =  tf.data.Dataset.from_generator(\n",
    "            lambda : generator(X_val, y_val),\n",
    "            output_signature=(\n",
    "                tf.TensorSpec(shape=(256, 256, 3), dtype=tf.float32),\n",
    "                tf.TensorSpec(shape=(), dtype=tf.int32)\n",
    "            )\n",
    ")\n",
    "\n",
    "base_model_4 = VGGFace(input_shape=IMG_SHAPE, include_top=False, model='vgg16')\n",
    "print(f\"Number of layers in VGGFACE : {len(base_model_4.layers)}\")\n",
    "\n",
    "base_model_4.trainable = False\n",
    "\n",
    "# fine_tune_from_layer = 16\n",
    "# for layer in base_model_4.layers[-40:]:\n",
    "#     layer.trainable = True\n",
    "\n",
    "\n",
    "model_4 = Sequential()\n",
    "model_4.add(base_model_4)\n",
    "model_4.add(Flatten())\n",
    "model_4.add(Dense(1024, activation=LeakyReLU(alpha=0.01)))  # Fully connected layer\n",
    "model_4.add(BatchNormalization())\n",
    "model_4.add(Dropout(0.2))\n",
    "\n",
    "model_4.add(Dense(512, activation=LeakyReLU(alpha=0.01)))  # Fully connected layer\n",
    "model_4.add(BatchNormalization())\n",
    "model_4.add(Dropout(0.2))\n",
    "\n",
    "model_4.add(Dense(256, activation=LeakyReLU(alpha=0.01)))  # Fully connected layer\n",
    "model_4.add(BatchNormalization())\n",
    "model_4.add(Dropout(0.2))\n",
    "\n",
    "model_4.add(Dense(128, activation=LeakyReLU(alpha=0.01)))  # Fully connected layer\n",
    "model_4.add(BatchNormalization())\n",
    "\n",
    "\n",
    "model_4.add(Dense(1, activation='sigmoid'))\n",
    "model_4.compile(loss='binary_crossentropy',optimizer=RMSprop(learning_rate=0.0001), metrics=['accuracy'])\n",
    "\n"
   ]
  },
  {
   "cell_type": "code",
   "execution_count": 45,
   "id": "336821a2",
   "metadata": {},
   "outputs": [
    {
     "name": "stdout",
     "output_type": "stream",
     "text": [
      "Epoch 1/10\n",
      "813/813 [==============================] - 506s 620ms/step - loss: 0.0279 - accuracy: 0.9912 - val_loss: 0.0072 - val_accuracy: 0.9985\n",
      "Epoch 2/10\n",
      "813/813 [==============================] - 321s 396ms/step - loss: 0.0051 - accuracy: 0.9985 - val_loss: 0.0024 - val_accuracy: 0.9992\n",
      "Epoch 3/10\n",
      "813/813 [==============================] - 317s 390ms/step - loss: 0.0034 - accuracy: 0.9989 - val_loss: 0.0025 - val_accuracy: 0.9994\n",
      "Epoch 4/10\n",
      "813/813 [==============================] - 317s 391ms/step - loss: 0.0019 - accuracy: 0.9993 - val_loss: 0.0017 - val_accuracy: 0.9995\n",
      "Epoch 5/10\n",
      "813/813 [==============================] - 317s 390ms/step - loss: 0.0014 - accuracy: 0.9995 - val_loss: 0.0030 - val_accuracy: 0.9994\n",
      "Epoch 6/10\n",
      "813/813 [==============================] - 317s 390ms/step - loss: 9.7035e-04 - accuracy: 0.9997 - val_loss: 0.0183 - val_accuracy: 0.9957\n",
      "Epoch 7/10\n",
      "813/813 [==============================] - 318s 391ms/step - loss: 0.0018 - accuracy: 0.9994 - val_loss: 0.0040 - val_accuracy: 0.9992\n",
      "Epoch 8/10\n",
      "813/813 [==============================] - 317s 390ms/step - loss: 0.0013 - accuracy: 0.9996 - val_loss: 0.0037 - val_accuracy: 0.9995\n",
      "Epoch 9/10\n",
      "813/813 [==============================] - 317s 390ms/step - loss: 8.4039e-04 - accuracy: 0.9998 - val_loss: 0.0037 - val_accuracy: 0.9995\n"
     ]
    }
   ],
   "source": [
    "# metrics_callback_1 = MetricsCallback(val_dataset_1.batch(BATCH_SIZE).prefetch(3))\n",
    "early_stopping_4 = EarlyStopping(patience=5, restore_best_weights=True)\n",
    "\n",
    "history_4 = model_4.fit(train_dataset_4.batch(BATCH_SIZE).prefetch(3).repeat(),\n",
    "                    steps_per_epoch=int(len(X_train) // BATCH_SIZE),\n",
    "                    epochs=10,\n",
    "                    verbose=1,\n",
    "                    validation_data=val_dataset_4.batch(BATCH_SIZE).prefetch(3).repeat(),\n",
    "                    validation_steps=int(len(X_val) // BATCH_SIZE),\n",
    "                    use_multiprocessing=True,\n",
    "                    callbacks=[early_stopping_4]\n",
    "                    )"
   ]
  },
  {
   "cell_type": "code",
   "execution_count": 46,
   "id": "ebdf3e16",
   "metadata": {},
   "outputs": [
    {
     "name": "stdout",
     "output_type": "stream",
     "text": [
      "255/255 [==============================] - 85s 333ms/step - loss: 0.0039 - accuracy: 0.9993\n"
     ]
    }
   ],
   "source": [
    "loss_4, accuracy_4 = model_4.evaluate(test_dataset.batch(BATCH_SIZE).prefetch(3))\n",
    "performance_scores.append(accuracy_4)"
   ]
  },
  {
   "cell_type": "code",
   "execution_count": 47,
   "id": "a381a25d",
   "metadata": {},
   "outputs": [
    {
     "name": "stderr",
     "output_type": "stream",
     "text": [
      "WARNING:absl:Found untraced functions such as leaky_re_lu_10_layer_call_and_return_conditional_losses, leaky_re_lu_10_layer_call_fn, leaky_re_lu_11_layer_call_and_return_conditional_losses, leaky_re_lu_11_layer_call_fn, leaky_re_lu_12_layer_call_and_return_conditional_losses while saving (showing 5 of 20). These functions will not be directly callable after loading.\n"
     ]
    },
    {
     "name": "stdout",
     "output_type": "stream",
     "text": [
      "INFO:tensorflow:Assets written to: models/model_4_casia_vgg_no_train\\assets\n"
     ]
    },
    {
     "name": "stderr",
     "output_type": "stream",
     "text": [
      "INFO:tensorflow:Assets written to: models/model_4_casia_vgg_no_train\\assets\n"
     ]
    }
   ],
   "source": [
    "model_4.save(\"models/model_4_casia_vgg_no_train\")\n",
    "model_4.save_weights(\"models/model_4_casia_vgg_no_train\")"
   ]
  },
  {
   "cell_type": "markdown",
   "id": "5241e433",
   "metadata": {},
   "source": [
    "### Model 5"
   ]
  },
  {
   "cell_type": "code",
   "execution_count": 48,
   "id": "97713ba1",
   "metadata": {},
   "outputs": [
    {
     "name": "stdout",
     "output_type": "stream",
     "text": [
      "[ 0  1  2  3  4  5  6  7  8 10]\n",
      "[ 9 11 13 16 24 25 40 53 55 60]\n",
      "Number of layers in VGGFACE : 19\n"
     ]
    }
   ],
   "source": [
    "# FOLD 2\n",
    "train_index, val_index = next(folds)\n",
    "print(train_index[:10])\n",
    "print(val_index[:10])\n",
    "\n",
    "X_train, X_val = [train_x[i] for i in train_index], [train_x[i] for i in val_index]\n",
    "y_train, y_val = [train_y[i] for i in train_index], [train_y[i] for i in val_index]\n",
    "train_dataset_5 = tf.data.Dataset.from_generator(\n",
    "            lambda : generator(X_train, y_train),\n",
    "            output_signature=(\n",
    "                tf.TensorSpec(shape=(256, 256, 3), dtype=tf.float32),\n",
    "                tf.TensorSpec(shape=(), dtype=tf.int32)\n",
    "            )\n",
    ")\n",
    "\n",
    "val_dataset_5 =  tf.data.Dataset.from_generator(\n",
    "            lambda : generator(X_val, y_val),\n",
    "            output_signature=(\n",
    "                tf.TensorSpec(shape=(256, 256, 3), dtype=tf.float32),\n",
    "                tf.TensorSpec(shape=(), dtype=tf.int32)\n",
    "            )\n",
    ")\n",
    "\n",
    "base_model_5 = VGGFace(input_shape=IMG_SHAPE, include_top=False, model='vgg16')\n",
    "print(f\"Number of layers in VGGFACE : {len(base_model_5.layers)}\")\n",
    "\n",
    "base_model_5.trainable = False\n",
    "\n",
    "# fine_tune_from_layer = 16\n",
    "# for layer in base_model_5.layers[-40:]:\n",
    "#     layer.trainable = True\n",
    "\n",
    "model_5 = Sequential()\n",
    "model_5.add(base_model_5)\n",
    "model_5.add(Flatten())\n",
    "model_5.add(Dense(1024, activation=LeakyReLU(alpha=0.01)))  # Fully connected layer\n",
    "model_5.add(BatchNormalization())\n",
    "model_5.add(Dropout(0.2))\n",
    "\n",
    "model_5.add(Dense(512, activation=LeakyReLU(alpha=0.01)))  # Fully connected layer\n",
    "model_5.add(BatchNormalization())\n",
    "model_5.add(Dropout(0.2))\n",
    "\n",
    "model_5.add(Dense(256, activation=LeakyReLU(alpha=0.01)))  # Fully connected layer\n",
    "model_5.add(BatchNormalization())\n",
    "model_5.add(Dropout(0.2))\n",
    "\n",
    "model_5.add(Dense(128, activation=LeakyReLU(alpha=0.01)))  # Fully connected layer\n",
    "model_5.add(BatchNormalization())\n",
    "\n",
    "\n",
    "model_5.add(Dense(1, activation='sigmoid'))\n",
    "model_5.compile(loss='binary_crossentropy',optimizer=RMSprop(learning_rate=0.0001), metrics=['accuracy'])\n",
    "\n"
   ]
  },
  {
   "cell_type": "code",
   "execution_count": 49,
   "id": "ddc12661",
   "metadata": {},
   "outputs": [
    {
     "name": "stdout",
     "output_type": "stream",
     "text": [
      "Epoch 1/10\n",
      "813/813 [==============================] - 316s 385ms/step - loss: 0.0293 - accuracy: 0.9904 - val_loss: 0.0027 - val_accuracy: 0.9988\n",
      "Epoch 2/10\n",
      "813/813 [==============================] - 328s 399ms/step - loss: 0.0057 - accuracy: 0.9983 - val_loss: 0.0025 - val_accuracy: 0.9994\n",
      "Epoch 3/10\n",
      "813/813 [==============================] - 322s 396ms/step - loss: 0.0038 - accuracy: 0.9990 - val_loss: 0.0060 - val_accuracy: 0.9986\n",
      "Epoch 4/10\n",
      "813/813 [==============================] - 321s 395ms/step - loss: 0.0021 - accuracy: 0.9994 - val_loss: 0.0011 - val_accuracy: 0.9997\n",
      "Epoch 5/10\n",
      "813/813 [==============================] - 327s 402ms/step - loss: 0.0017 - accuracy: 0.9996 - val_loss: 0.0027 - val_accuracy: 0.9997\n",
      "Epoch 6/10\n",
      "813/813 [==============================] - 326s 402ms/step - loss: 0.0020 - accuracy: 0.9995 - val_loss: 0.0017 - val_accuracy: 0.9997\n",
      "Epoch 7/10\n",
      "813/813 [==============================] - 324s 398ms/step - loss: 0.0015 - accuracy: 0.9995 - val_loss: 0.0022 - val_accuracy: 0.9997\n",
      "Epoch 8/10\n",
      "813/813 [==============================] - 318s 391ms/step - loss: 0.0014 - accuracy: 0.9995 - val_loss: 0.0019 - val_accuracy: 0.9997\n",
      "Epoch 9/10\n",
      "813/813 [==============================] - 320s 394ms/step - loss: 0.0011 - accuracy: 0.9996 - val_loss: 0.0030 - val_accuracy: 0.9992\n"
     ]
    }
   ],
   "source": [
    "# metrics_callback_1 = MetricsCallback(val_dataset_1.batch(BATCH_SIZE).prefetch(3))\n",
    "early_stopping_5 = EarlyStopping(patience=5, restore_best_weights=True)\n",
    "\n",
    "history_5 = model_5.fit(train_dataset_5.batch(BATCH_SIZE).prefetch(3).repeat(),\n",
    "                    steps_per_epoch=int(len(X_train) // BATCH_SIZE),\n",
    "                    epochs=10,\n",
    "                    verbose=1,\n",
    "                    validation_data=val_dataset_5.batch(BATCH_SIZE).prefetch(3).repeat(),\n",
    "                    validation_steps=int(len(X_val) // BATCH_SIZE),\n",
    "                    use_multiprocessing=True,\n",
    "                    callbacks=[early_stopping_5]\n",
    "                    )"
   ]
  },
  {
   "cell_type": "code",
   "execution_count": 50,
   "id": "7b29d3a6",
   "metadata": {},
   "outputs": [
    {
     "name": "stdout",
     "output_type": "stream",
     "text": [
      "255/255 [==============================] - 73s 285ms/step - loss: 0.0014 - accuracy: 0.9996\n"
     ]
    }
   ],
   "source": [
    "loss_5, accuracy_5 = model_5.evaluate(test_dataset.batch(BATCH_SIZE).prefetch(3))\n",
    "performance_scores.append(accuracy_5)"
   ]
  },
  {
   "cell_type": "code",
   "execution_count": 51,
   "id": "dd14eed3",
   "metadata": {},
   "outputs": [
    {
     "name": "stderr",
     "output_type": "stream",
     "text": [
      "WARNING:absl:Found untraced functions such as leaky_re_lu_14_layer_call_and_return_conditional_losses, leaky_re_lu_14_layer_call_fn, leaky_re_lu_15_layer_call_and_return_conditional_losses, leaky_re_lu_15_layer_call_fn, leaky_re_lu_16_layer_call_and_return_conditional_losses while saving (showing 5 of 20). These functions will not be directly callable after loading.\n"
     ]
    },
    {
     "name": "stdout",
     "output_type": "stream",
     "text": [
      "INFO:tensorflow:Assets written to: models/model_5_casia_vgg_no_train\\assets\n"
     ]
    },
    {
     "name": "stderr",
     "output_type": "stream",
     "text": [
      "INFO:tensorflow:Assets written to: models/model_5_casia_vgg_no_train\\assets\n"
     ]
    }
   ],
   "source": [
    "model_5.save(\"models/model_5_casia_vgg_no_train\")\n",
    "model_5.save_weights(\"models/model_5_casia_vgg_no_train\")"
   ]
  },
  {
   "cell_type": "code",
   "execution_count": null,
   "id": "6c899344",
   "metadata": {},
   "outputs": [],
   "source": []
  },
  {
   "cell_type": "code",
   "execution_count": null,
   "id": "56379922",
   "metadata": {},
   "outputs": [],
   "source": []
  },
  {
   "cell_type": "code",
   "execution_count": 66,
   "id": "ab8c9394",
   "metadata": {},
   "outputs": [
    {
     "data": {
      "text/plain": [
       "{}"
      ]
     },
     "execution_count": 66,
     "metadata": {},
     "output_type": "execute_result"
    }
   ],
   "source": []
  },
  {
   "cell_type": "markdown",
   "id": "976fd2f2",
   "metadata": {},
   "source": [
    "## Training"
   ]
  },
  {
   "cell_type": "code",
   "execution_count": 70,
   "id": "01b1ad56",
   "metadata": {},
   "outputs": [
    {
     "data": {
      "image/png": "[encoded data removed]",
      "text/plain": [
       "<Figure size 432x288 with 1 Axes>"
      ]
     },
     "metadata": {
      "needs_background": "light"
     },
     "output_type": "display_data"
    }
   ],
   "source": [
    "from pickle import load\n",
    "from matplotlib.pylab import plt\n",
    "from numpy import arange\n",
    "\n",
    "# Load the training and validation loss dictionaries\n",
    "train_values = history_1.history['accuracy']\n",
    "val_values = history_1.history['val_accuracy']\n",
    "\n",
    "# Generate a sequence of integers to represent the epoch numbers\n",
    "epochs = range(1, 11)\n",
    " \n",
    "# Plot and label the training and validation loss values\n",
    "plt.plot(epochs, train_values, label='Training Loss')\n",
    "plt.plot(epochs, val_values, label='Validation Loss')\n",
    " \n",
    "# Add in a title and axes labels\n",
    "plt.title('Training and Validation Loss')\n",
    "plt.xlabel('Epochs')\n",
    "plt.ylabel('Loss')\n",
    " \n",
    "# Set the tick locations\n",
    "plt.xticks(arange(0, 21, 2))\n",
    " \n",
    "# Display the plot\n",
    "plt.legend(loc='best')\n",
    "plt.show()"
   ]
  },
  {
   "cell_type": "markdown",
   "id": "0c74be8d",
   "metadata": {},
   "source": [
    "## Testing\n"
   ]
  },
  {
   "cell_type": "code",
   "execution_count": 28,
   "id": "7cef208f",
   "metadata": {
    "scrolled": true
   },
   "outputs": [
    {
     "data": {
      "text/plain": [
       "TensorShape([256, 256, 3])"
      ]
     },
     "execution_count": 28,
     "metadata": {},
     "output_type": "execute_result"
    }
   ],
   "source": [
    "image = [read_image(im) for im in train_x[20:40]]\n",
    "image[0].shape"
   ]
  },
  {
   "cell_type": "code",
   "execution_count": 24,
   "id": "f0d0d7ee",
   "metadata": {},
   "outputs": [],
   "source": []
  },
  {
   "cell_type": "code",
   "execution_count": 29,
   "id": "3be7b9aa",
   "metadata": {
    "scrolled": true
   },
   "outputs": [
    {
     "name": "stdout",
     "output_type": "stream",
     "text": [
      "115/115 [==============================] - 23s 197ms/step - loss: 0.0415 - accuracy: 0.9872\n",
      "Test Accuracy: 0.9871655106544495\n",
      "Test F1 Score: 0.9874163319946452\n",
      "Test Precision: 0.9792883696229421\n",
      "Test Recall: 0.9956803455723542\n"
     ]
    }
   ],
   "source": [
    "# Evaluate the model on the test dataset\n",
    "test_loss, test_accuracy = model.evaluate(test_dataset.batch(BATCH_SIZE).prefetch(3))\n",
    "\n",
    "# Predict on the test dataset\n",
    "predictions = model.predict(test_dataset.batch(BATCH_SIZE).prefetch(3))\n",
    "predicted_labels = np.round(predictions).flatten()\n",
    "\n",
    "# Get the true labels for the test dataset\n",
    "true_labels = np.array([label.numpy().item() for _, label in test_dataset])\n",
    "\n",
    "# Calculate metrics on the test dataset\n",
    "test_f1 = f1_score(true_labels, predicted_labels)\n",
    "test_precision = precision_score(true_labels, predicted_labels)\n",
    "test_recall = recall_score(true_labels, predicted_labels)\n",
    "\n",
    "# Print the metrics\n",
    "print(\"Test Accuracy:\", test_accuracy)\n",
    "print(\"Test F1 Score:\", test_f1)\n",
    "print(\"Test Precision:\", test_precision)\n",
    "print(\"Test Recall:\", test_recall)\n"
   ]
  },
  {
   "cell_type": "code",
   "execution_count": 69,
   "id": "8d8d0939",
   "metadata": {
    "scrolled": true
   },
   "outputs": [],
   "source": [
    "\n",
    "# Function to display the image and labels\n",
    "def display_image_with_labels(image, real_label, predicted_label):\n",
    "    plt.imshow(image)\n",
    "    plt.title(f\"Real Label: {real_label}, Predicted Label: {predicted_label:.2f}\")\n",
    "    plt.show()\n",
    "\n",
    "def display_model(model, test_dataset):\n",
    "    # Predict on the validation dataset\n",
    "    predictions = model.predict(test_dataset.batch(BATCH_SIZE).prefetch(3))\n",
    "    predicted_labels = np.round(predictions).flatten()\n",
    "\n",
    "    # # Loop over each image, real label, and predicted label\n",
    "    for i, (image, real_label) in enumerate(test_dataset.take(len(predicted_labels))):\n",
    "        predicted_label = predicted_labels[i]\n",
    "\n",
    "        # Convert the image tensor to a NumPy array for display\n",
    "        image_np = image.numpy()\n",
    "\n",
    "        # Convert real_label to a scalar value (assuming it's a single-element tensor)\n",
    "        real_label = real_label.numpy().item()\n",
    "\n",
    "        # Display the image with the real label and predicted label\n",
    "        display_image_with_labels(image_np, real_label, predicted_label)\n"
   ]
  },
  {
   "cell_type": "code",
   "execution_count": 71,
   "id": "bc522c39",
   "metadata": {},
   "outputs": [],
   "source": [
    "def get_dataset():\n",
    "    test_dataset = tf.data.Dataset.from_generator(\n",
    "            lambda : generator(test_x, test_y),\n",
    "            output_signature=(\n",
    "                tf.TensorSpec(shape=(256, 256, 3), dtype=tf.float32),\n",
    "                tf.TensorSpec(shape=(), dtype=tf.int32)\n",
    "            )\n",
    "    )\n",
    "    return test_dataset"
   ]
  },
  {
   "cell_type": "code",
   "execution_count": 52,
   "id": "11aeda7b",
   "metadata": {},
   "outputs": [],
   "source": [
    "# test = get_dataset()\n",
    "# display_model(model_1, test)"
   ]
  },
  {
   "cell_type": "code",
   "execution_count": 51,
   "id": "19fa0967",
   "metadata": {},
   "outputs": [],
   "source": [
    "# test = get_dataset()\n",
    "# display_model(model_2, test)"
   ]
  },
  {
   "cell_type": "code",
   "execution_count": null,
   "id": "6d845616",
   "metadata": {},
   "outputs": [],
   "source": [
    "test = get_dataset()\n",
    "display_model(model_3, test)"
   ]
  },
  {
   "cell_type": "code",
   "execution_count": null,
   "id": "041f25b5",
   "metadata": {},
   "outputs": [],
   "source": [
    "test = get_dataset()\n",
    "display_model(model_4, test)"
   ]
  },
  {
   "cell_type": "code",
   "execution_count": null,
   "id": "ef2f937b",
   "metadata": {},
   "outputs": [],
   "source": [
    "test = get_dataset()\n",
    "display_model(model_5, test)"
   ]
  },
  {
   "cell_type": "code",
   "execution_count": 53,
   "id": "dcc30d30",
   "metadata": {},
   "outputs": [
    {
     "name": "stdout",
     "output_type": "stream",
     "text": [
      "Average loss : 0.14069488134700806\n",
      "Average Accuracy : 0.9011799454689026\n"
     ]
    }
   ],
   "source": [
    "all_loss = loss_1 + loss_2 + loss_3 + loss_4 + loss_5\n",
    "all_acc = accuracy_1 + accuracy_2 + accuracy_3 + accuracy_4 + accuracy_5\n",
    "print(f\"Average loss : {all_loss / 5}\")\n",
    "print(f\"Average Accuracy : {all_acc / 5}\")"
   ]
  },
  {
   "cell_type": "code",
   "execution_count": 54,
   "id": "db2f1ffc",
   "metadata": {},
   "outputs": [
    {
     "data": {
      "text/plain": [
       "0.9997541904449463"
      ]
     },
     "execution_count": 54,
     "metadata": {},
     "output_type": "execute_result"
    }
   ],
   "source": [
    "max([accuracy_1 ,accuracy_2 ,accuracy_3 ,accuracy_4, accuracy_5])"
   ]
  },
  {
   "cell_type": "code",
   "execution_count": 55,
   "id": "d85a04be",
   "metadata": {},
   "outputs": [],
   "source": [
    "a = [accuracy_1 ,accuracy_2 ,accuracy_3 ,accuracy_4, accuracy_5]"
   ]
  },
  {
   "cell_type": "code",
   "execution_count": 56,
   "id": "13b17159",
   "metadata": {},
   "outputs": [
    {
     "data": {
      "text/plain": [
       "[0.9997541904449463,\n",
       " 0.5084808468818665,\n",
       " 0.9987708926200867,\n",
       " 0.9992625117301941,\n",
       " 0.9996312856674194]"
      ]
     },
     "execution_count": 56,
     "metadata": {},
     "output_type": "execute_result"
    }
   ],
   "source": [
    "a"
   ]
  },
  {
   "cell_type": "code",
   "execution_count": 35,
   "id": "da4439d3",
   "metadata": {},
   "outputs": [
    {
     "data": {
      "image/png": "[encoded data removed]",
      "text/plain": [
       "<Figure size 432x288 with 1 Axes>"
      ]
     },
     "metadata": {
      "needs_background": "light"
     },
     "output_type": "display_data"
    }
   ],
   "source": [
    "from pickle import load\n",
    "from matplotlib.pylab import plt\n",
    "from numpy import arange\n",
    "\n",
    "# Load the training and validation loss dictionaries\n",
    "train_values = history_1.history['loss']\n",
    "val_values = history_1.history['val_loss']\n",
    "\n",
    "# Generate a sequence of integers to represent the epoch numbers\n",
    "epochs = range(1, 10)\n",
    " \n",
    "# Plot and label the training and validation loss values\n",
    "plt.plot(epochs, train_values, label='Training Loss')\n",
    "plt.plot(epochs, val_values, label='Validation Loss')\n",
    " \n",
    "# Add in a title and axes labels\n",
    "plt.title('Training and Validation Loss')\n",
    "plt.xlabel('Epochs')\n",
    "plt.ylabel('Loss')\n",
    " \n",
    "# Set the tick locations\n",
    "plt.xticks(arange(0, 21, 2))\n",
    " \n",
    "# Display the plot\n",
    "plt.legend(loc='best')\n",
    "plt.show()"
   ]
  },
  {
   "cell_type": "code",
   "execution_count": 36,
   "id": "193b4d3e",
   "metadata": {},
   "outputs": [
    {
     "data": {
      "image/png": "[encoded data removed]",
      "text/plain": [
       "<Figure size 576x432 with 2 Axes>"
      ]
     },
     "metadata": {
      "needs_background": "light"
     },
     "output_type": "display_data"
    }
   ],
   "source": [
    "from sklearn.metrics import confusion_matrix, classification_report\n",
    "import matplotlib.pyplot as plt\n",
    "import itertools\n",
    "\n",
    "predictions = model_1.predict(test_dataset.batch(BATCH_SIZE).prefetch(3))\n",
    "predicted_labels = np.round(predictions).flatten() \n",
    "\n",
    "\n",
    "cm = confusion_matrix(predicted_labels, np.argmax(predictions, axis=1))\n",
    "\n",
    "class_labels = [0, 1]\n",
    "\n",
    "# Plot confusion matrix as a heatmap using Matplotlib\n",
    "plt.figure(figsize=(8, 6))\n",
    "plt.imshow(cm, interpolation='nearest', cmap=plt.cm.Blues)\n",
    "plt.title('Confusion Matrix')\n",
    "plt.colorbar()\n",
    "\n",
    "# Add labels to the axes\n",
    "tick_marks = np.arange(len(class_labels))\n",
    "plt.xticks(tick_marks, class_labels)\n",
    "plt.yticks(tick_marks, class_labels)\n",
    "\n",
    "# Display values in the cells\n",
    "thresh = cm.max() / 2.0\n",
    "for i, j in itertools.product(range(cm.shape[0]), range(cm.shape[1])):\n",
    "    plt.text(j, i, format(cm[i, j], 'd'),\n",
    "             horizontalalignment=\"center\",\n",
    "             color=\"white\" if cm[i, j] > thresh else \"black\")\n",
    "\n",
    "plt.ylabel('True label')\n",
    "plt.xlabel('Predicted label')\n",
    "plt.tight_layout()\n",
    "plt.show()\n"
   ]
  },
  {
   "cell_type": "code",
   "execution_count": null,
   "id": "c70c78a5",
   "metadata": {},
   "outputs": [],
   "source": []
  }
 ],
 "metadata": {
  "kernelspec": {
   "display_name": "Python (tf2)",
   "language": "python",
   "name": "tf2"
  },
  "language_info": {
   "codemirror_mode": {
    "name": "ipython",
    "version": 3
   },
   "file_extension": ".py",
   "mimetype": "text/x-python",
   "name": "python",
   "nbconvert_exporter": "python",
   "pygments_lexer": "ipython3",
   "version": "3.9.7"
  }
 },
 "nbformat": 4,
 "nbformat_minor": 5
}
